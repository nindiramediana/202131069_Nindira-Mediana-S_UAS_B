{
  "nbformat": 4,
  "nbformat_minor": 0,
  "metadata": {
    "colab": {
      "provenance": []
    },
    "kernelspec": {
      "name": "python3",
      "display_name": "Python 3"
    },
    "language_info": {
      "name": "python"
    }
  },
  "cells": [
    {
      "cell_type": "code",
      "execution_count": 11,
      "metadata": {
        "id": "eSTWCUihuxgi"
      },
      "outputs": [],
      "source": [
        "# Import library dan dataset\n",
        "import pandas as pd\n",
        "from sklearn.model_selection import train_test_split\n",
        "from sklearn.preprocessing import StandardScaler, OneHotEncoder\n",
        "from sklearn.compose import make_column_transformer\n",
        "from sklearn.pipeline import make_pipeline\n",
        "from tensorflow.keras.models import Sequential\n",
        "from tensorflow.keras.layers import Dense, Dropout\n",
        "from tensorflow.keras.optimizers import Adam\n",
        "\n",
        "# Memuat data\n",
        "data = pd.read_csv('AdidasVsNike.csv')\n",
        "\n",
        "# Drop kolom yang tidak diperlukan untuk prediksi\n",
        "data.drop(['Product Name', 'Product ID', 'Description', 'Last Visited', 'Reviews'], axis=1, inplace=True)\n",
        "\n",
        "# Drop data kosong\n",
        "data.fillna(0, inplace=True)\n",
        "\n",
        "# Encoding categorical data dan normalisasi data numerik\n",
        "preprocess = make_column_transformer(\n",
        "    (OneHotEncoder(), ['Brand']),\n",
        "    (StandardScaler(), ['Listing Price', 'Sale Price', 'Discount']),\n",
        "    remainder='passthrough'\n",
        ")\n",
        "\n",
        "# Menerapkan preprocessing ke X\n",
        "X_processed = preprocess.fit_transform(X)\n",
        "\n",
        "# Konversi X_processed menjadi tipe float agar sesuai dengan ekspektasi model\n",
        "X_processed = X_processed.astype(float)\n",
        "\n",
        "# Splitting the dataset again after preprocessing\n",
        "X_train, X_test, y_train, y_test = train_test_split(X_processed, y, test_size=0.2, random_state=42)"
      ]
    },
    {
      "cell_type": "code",
      "source": [
        "# Membangun model Neural Network dengan penyesuaian\n",
        "model = Sequential([\n",
        "    Dense(128, activation='relu', input_shape=(X_train.shape[1],)),\n",
        "    Dropout(0.2),  # Menambahkan Dropout untuk mengurangi overfitting\n",
        "    Dense(64, activation='relu'),\n",
        "    Dropout(0.2),  # Menambahkan Dropout\n",
        "    Dense(32, activation='relu'),\n",
        "    Dense(1)  # Output layer untuk regresi hanya memerlukan 1 neuron tanpa activation function\n",
        "])\n",
        "\n",
        "model.compile(optimizer=Adam(learning_rate=0.001), loss='mean_squared_error')"
      ],
      "metadata": {
        "id": "Z2JcbWQRvg8R"
      },
      "execution_count": 12,
      "outputs": []
    },
    {
      "cell_type": "code",
      "source": [
        "# Pelatihan model dengan penyesuaian epochs dan batch size\n",
        "history = model.fit(X_train, y_train, epochs=50, batch_size=16, validation_split=0.2, verbose=1)"
      ],
      "metadata": {
        "colab": {
          "base_uri": "https://localhost:8080/"
        },
        "id": "yin0uv74vk2y",
        "outputId": "712d123d-b354-4d12-c7b6-32117c0acdaf"
      },
      "execution_count": 13,
      "outputs": [
        {
          "output_type": "stream",
          "name": "stdout",
          "text": [
            "Epoch 1/50\n",
            "20/20 [==============================] - 1s 11ms/step - loss: 9.8300 - val_loss: 5.4380\n",
            "Epoch 2/50\n",
            "20/20 [==============================] - 0s 4ms/step - loss: 3.3953 - val_loss: 2.2813\n",
            "Epoch 3/50\n",
            "20/20 [==============================] - 0s 4ms/step - loss: 2.1779 - val_loss: 1.7779\n",
            "Epoch 4/50\n",
            "20/20 [==============================] - 0s 4ms/step - loss: 1.8051 - val_loss: 1.5710\n",
            "Epoch 5/50\n",
            "20/20 [==============================] - 0s 4ms/step - loss: 1.6907 - val_loss: 1.5080\n",
            "Epoch 6/50\n",
            "20/20 [==============================] - 0s 5ms/step - loss: 1.6400 - val_loss: 1.4792\n",
            "Epoch 7/50\n",
            "20/20 [==============================] - 0s 3ms/step - loss: 1.5230 - val_loss: 1.4535\n",
            "Epoch 8/50\n",
            "20/20 [==============================] - 0s 3ms/step - loss: 1.4671 - val_loss: 1.4631\n",
            "Epoch 9/50\n",
            "20/20 [==============================] - 0s 4ms/step - loss: 1.5500 - val_loss: 1.4327\n",
            "Epoch 10/50\n",
            "20/20 [==============================] - 0s 4ms/step - loss: 1.4111 - val_loss: 1.4096\n",
            "Epoch 11/50\n",
            "20/20 [==============================] - 0s 4ms/step - loss: 1.4646 - val_loss: 1.3973\n",
            "Epoch 12/50\n",
            "20/20 [==============================] - 0s 4ms/step - loss: 1.4718 - val_loss: 1.4222\n",
            "Epoch 13/50\n",
            "20/20 [==============================] - 0s 4ms/step - loss: 1.4733 - val_loss: 1.4387\n",
            "Epoch 14/50\n",
            "20/20 [==============================] - 0s 4ms/step - loss: 1.4463 - val_loss: 1.4054\n",
            "Epoch 15/50\n",
            "20/20 [==============================] - 0s 4ms/step - loss: 1.4589 - val_loss: 1.3849\n",
            "Epoch 16/50\n",
            "20/20 [==============================] - 0s 4ms/step - loss: 1.5139 - val_loss: 1.4028\n",
            "Epoch 17/50\n",
            "20/20 [==============================] - 0s 4ms/step - loss: 1.4049 - val_loss: 1.4633\n",
            "Epoch 18/50\n",
            "20/20 [==============================] - 0s 4ms/step - loss: 1.4181 - val_loss: 1.5093\n",
            "Epoch 19/50\n",
            "20/20 [==============================] - 0s 4ms/step - loss: 1.4619 - val_loss: 1.4398\n",
            "Epoch 20/50\n",
            "20/20 [==============================] - 0s 4ms/step - loss: 1.4664 - val_loss: 1.3970\n",
            "Epoch 21/50\n",
            "20/20 [==============================] - 0s 4ms/step - loss: 1.3645 - val_loss: 1.3901\n",
            "Epoch 22/50\n",
            "20/20 [==============================] - 0s 4ms/step - loss: 1.4043 - val_loss: 1.4035\n",
            "Epoch 23/50\n",
            "20/20 [==============================] - 0s 4ms/step - loss: 1.4526 - val_loss: 1.3852\n",
            "Epoch 24/50\n",
            "20/20 [==============================] - 0s 3ms/step - loss: 1.3421 - val_loss: 1.3987\n",
            "Epoch 25/50\n",
            "20/20 [==============================] - 0s 3ms/step - loss: 1.3601 - val_loss: 1.3824\n",
            "Epoch 26/50\n",
            "20/20 [==============================] - 0s 4ms/step - loss: 1.3528 - val_loss: 1.3739\n",
            "Epoch 27/50\n",
            "20/20 [==============================] - 0s 5ms/step - loss: 1.4415 - val_loss: 1.4237\n",
            "Epoch 28/50\n",
            "20/20 [==============================] - 0s 3ms/step - loss: 1.3258 - val_loss: 1.3842\n",
            "Epoch 29/50\n",
            "20/20 [==============================] - 0s 4ms/step - loss: 1.4078 - val_loss: 1.4065\n",
            "Epoch 30/50\n",
            "20/20 [==============================] - 0s 4ms/step - loss: 1.4243 - val_loss: 1.4280\n",
            "Epoch 31/50\n",
            "20/20 [==============================] - 0s 4ms/step - loss: 1.3711 - val_loss: 1.4086\n",
            "Epoch 32/50\n",
            "20/20 [==============================] - 0s 3ms/step - loss: 1.5444 - val_loss: 1.3984\n",
            "Epoch 33/50\n",
            "20/20 [==============================] - 0s 3ms/step - loss: 1.3902 - val_loss: 1.3941\n",
            "Epoch 34/50\n",
            "20/20 [==============================] - 0s 4ms/step - loss: 1.4167 - val_loss: 1.4024\n",
            "Epoch 35/50\n",
            "20/20 [==============================] - 0s 4ms/step - loss: 1.3663 - val_loss: 1.3875\n",
            "Epoch 36/50\n",
            "20/20 [==============================] - 0s 5ms/step - loss: 1.3493 - val_loss: 1.3892\n",
            "Epoch 37/50\n",
            "20/20 [==============================] - 0s 4ms/step - loss: 1.4486 - val_loss: 1.4108\n",
            "Epoch 38/50\n",
            "20/20 [==============================] - 0s 4ms/step - loss: 1.4251 - val_loss: 1.3985\n",
            "Epoch 39/50\n",
            "20/20 [==============================] - 0s 4ms/step - loss: 1.3714 - val_loss: 1.4006\n",
            "Epoch 40/50\n",
            "20/20 [==============================] - 0s 4ms/step - loss: 1.3494 - val_loss: 1.3721\n",
            "Epoch 41/50\n",
            "20/20 [==============================] - 0s 5ms/step - loss: 1.4170 - val_loss: 1.4303\n",
            "Epoch 42/50\n",
            "20/20 [==============================] - 0s 3ms/step - loss: 1.4438 - val_loss: 1.3749\n",
            "Epoch 43/50\n",
            "20/20 [==============================] - 0s 4ms/step - loss: 1.3466 - val_loss: 1.3784\n",
            "Epoch 44/50\n",
            "20/20 [==============================] - 0s 4ms/step - loss: 1.4134 - val_loss: 1.3734\n",
            "Epoch 45/50\n",
            "20/20 [==============================] - 0s 4ms/step - loss: 1.3665 - val_loss: 1.4262\n",
            "Epoch 46/50\n",
            "20/20 [==============================] - 0s 4ms/step - loss: 1.4967 - val_loss: 1.4699\n",
            "Epoch 47/50\n",
            "20/20 [==============================] - 0s 3ms/step - loss: 1.3889 - val_loss: 1.4467\n",
            "Epoch 48/50\n",
            "20/20 [==============================] - 0s 3ms/step - loss: 1.3562 - val_loss: 1.3666\n",
            "Epoch 49/50\n",
            "20/20 [==============================] - 0s 4ms/step - loss: 1.3712 - val_loss: 1.3949\n",
            "Epoch 50/50\n",
            "20/20 [==============================] - 0s 3ms/step - loss: 1.3408 - val_loss: 1.3816\n"
          ]
        }
      ]
    },
    {
      "cell_type": "code",
      "source": [
        "# Evaluasi model\n",
        "loss = model.evaluate(X_test, y_test, verbose=0)\n",
        "print(f'Test Loss: {loss}')"
      ],
      "metadata": {
        "colab": {
          "base_uri": "https://localhost:8080/"
        },
        "id": "VDbaUG37v8Ti",
        "outputId": "26316f69-be6c-442e-eb2b-94f0880154a9"
      },
      "execution_count": 14,
      "outputs": [
        {
          "output_type": "stream",
          "name": "stdout",
          "text": [
            "Test Loss: 1.1566357612609863\n"
          ]
        }
      ]
    }
  ]
}